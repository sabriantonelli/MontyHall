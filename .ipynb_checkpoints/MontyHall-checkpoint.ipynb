{
 "cells": [
  {
   "cell_type": "markdown",
   "id": "dc6b4f8e",
   "metadata": {},
   "source": [
    "# MontyHall"
   ]
  },
  {
   "cell_type": "code",
   "execution_count": 2,
   "id": "4ac1ea31",
   "metadata": {},
   "outputs": [],
   "source": [
    "\n",
    "from numpy import random\n",
    "import numpy as np\n",
    "import time\n",
    "\n",
    "def MontyHallSimulation (N):\n",
    "    ChoiceUnchanged=[]\n",
    "    ChoiceChanged=[]\n",
    "    NN=1\n",
    "    for i in range(0,N):\n",
    "        \n",
    "        Windoor=random.choice(['Door 1', 'Door 2', 'Door 3'])\n",
    "        FirstSelection=random.choice(['Door 1', 'Door 2', 'Door 3'])    \n",
    "        \n",
    "        #Puerta diferente a la elegida por el participante y diferente a la ganadora\n",
    "        Opens=list(set(['Door 1', 'Door 2', 'Door 3'])-set([FirstSelection,Windoor]))[0]  \n",
    "        #Puerta diferente a la elegida por el participante y a la abierta por el host\n",
    "        OtherDoor=list(set(['Door 1', 'Door 2', 'Door 3'])-set([FirstSelection,Opens]))[0]\n",
    "        \n",
    "        #True si el participante no cambia la seleccion\n",
    "        ChoiceUnchanged.append(FirstSelection==Windoor)\n",
    "        \n",
    "        # True si el particpante cambia la seleccion\n",
    "        ChoiceChanged.append(OtherDoor==Windoor)\n",
    "        \n",
    "\n",
    "    print(f'\\n\\\n",
    "    {N:,} games \\n\\\n",
    "    Chances de ganar el auto:\\n\\\n",
    "    Sin cambiar la puerta elegida: {\"{:.1%}\".format(sum(ChoiceUnchanged)/N)}\\n\\\n",
    "    Cambiando la puerta: {\"{:.1%}\".format(sum(ChoiceChanged)/N)}')\n",
    "            \n",
    "\n"
   ]
  },
  {
   "cell_type": "code",
   "execution_count": 3,
   "id": "156b42b5",
   "metadata": {},
   "outputs": [
    {
     "name": "stdout",
     "output_type": "stream",
     "text": [
      "\n",
      "    100,000 games \n",
      "    Chances de ganar el auto:\n",
      "    Sin cambiar la puerta elegida: 33.2%\n",
      "    Cambiando la puerta: 66.8%\n"
     ]
    }
   ],
   "source": [
    "MontyHallSimulation(N=100000)"
   ]
  },
  {
   "cell_type": "code",
   "execution_count": null,
   "id": "17449168",
   "metadata": {},
   "outputs": [],
   "source": []
  }
 ],
 "metadata": {
  "kernelspec": {
   "display_name": "Python 3 (ipykernel)",
   "language": "python",
   "name": "python3"
  },
  "language_info": {
   "codemirror_mode": {
    "name": "ipython",
    "version": 3
   },
   "file_extension": ".py",
   "mimetype": "text/x-python",
   "name": "python",
   "nbconvert_exporter": "python",
   "pygments_lexer": "ipython3",
   "version": "3.8.12"
  }
 },
 "nbformat": 4,
 "nbformat_minor": 5
}
